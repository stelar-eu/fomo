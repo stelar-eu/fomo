{
 "cells": [
  {
   "cell_type": "markdown",
   "id": "4181569a-160f-4ac6-af12-01a0b959a185",
   "metadata": {},
   "source": [
    "# Create workflow"
   ]
  },
  {
   "cell_type": "code",
   "execution_count": 1,
   "id": "cc0965e4",
   "metadata": {},
   "outputs": [],
   "source": [
    "import requests\n",
    "from time import sleep"
   ]
  },
  {
   "cell_type": "code",
   "execution_count": 2,
   "id": "b9866ad2-2e96-42d3-8227-7a2c95771dfd",
   "metadata": {},
   "outputs": [],
   "source": [
    "url = 'http://klms-dev.stelar.gr/stelar/api/v1/'\n",
    "token = 'eyJhbGciOiJSUzI1NiIsInR5cCIgOiAiSldUIiwia2lkIiA6ICJrdjM3SUN5czRCMjN2NWNzY3lrb01SNzlDS0pZWGplVGZXN3lEUFRMcFpZIn0.eyJleHAiOjE3MzIxMjk3NDcsImlhdCI6MTczMjA5Mzc0NywiYXV0aF90aW1lIjoxNzMyMDkzNzQ3LCJqdGkiOiJjNDU0ZGI4Mi03ZWNmLTQxZjAtYjU1OC0zOTNjNjcxYzg1NDUiLCJpc3MiOiJodHRwczovL2tjLWRldi5zdGVsYXIuZ3IvcmVhbG1zL21hc3RlciIsImF1ZCI6WyJtaW5pbyIsImFjY291bnQiXSwic3ViIjoiYjJlZTEyNjctZTFkMS00ZDkwLWIxMmUtNjFiOTBlMTNkNTVkIiwidHlwIjoiQmVhcmVyIiwiYXpwIjoic3RlbGFyLWFwaSIsInNpZCI6IjcyMzU0MjAwLTNiNmItNDQ1MS05MmJjLTE0OGQ0ZjhjMWFjNiIsImFjciI6IjEiLCJyZWFsbV9hY2Nlc3MiOnsicm9sZXMiOlsiZGVmYXVsdC1yb2xlcy1tYXN0ZXIiLCJvZmZsaW5lX2FjY2VzcyIsInVtYV9hdXRob3JpemF0aW9uIl19LCJyZXNvdXJjZV9hY2Nlc3MiOnsibWluaW8iOnsicm9sZXMiOlsiY29uc29sZUFkbWluIl19LCJhY2NvdW50Ijp7InJvbGVzIjpbIm1hbmFnZS1hY2NvdW50IiwibWFuYWdlLWFjY291bnQtbGlua3MiLCJ2aWV3LXByb2ZpbGUiXX19LCJzY29wZSI6Im9wZW5pZCBlbWFpbCBwcm9maWxlIG1pbmlvX2F1dGhfc2NvcGUiLCJlbWFpbF92ZXJpZmllZCI6dHJ1ZSwibmFtZSI6IkplbnMgZCdIb25kdCIsInByZWZlcnJlZF91c2VybmFtZSI6ImpkaG9uZHQiLCJnaXZlbl9uYW1lIjoiSmVucyIsImZhbWlseV9uYW1lIjoiZCdIb25kdCIsImVtYWlsIjoiai5lLmQuaG9uZHRAdHVlLm5sIiwicG9saWN5IjpbImNvbnNvbGVBZG1pbiIsIm1hbmFnZS1hY2NvdW50IiwibWFuYWdlLWFjY291bnQtbGlua3MiLCJ2aWV3LXByb2ZpbGUiXX0.HN8-IGVryolxHhJhNB0iBqI4KQ8LT294J0lU-TXZUr8G9q04QTuIzoJK5Q6t6Ab8qUycySdVd1MbLz9CJbpGs6AJbQITRAeo4zpJIS1JnbDjOX2di0761fpdEeZyfGjLlTxgepCwzEADnkMxhUd-kASqIEdIbrbl6yF6TyY5nF6Cyt9sbR_5CiBpNF7aCUcVq1Deh02gu7TsyyLeP1Y0mpAANOhcw12CtOF5ysSVlokSTAT2s3s7UEKUBXIufbELvdA_ptAf_Z_IcZoz_8P7GQ8qXhSAHb8Veaik4gStc9mjSfSvVGWOCAj5RZ_GSOR7W7dnU4S0pWwx-QhbkPtefw'\n",
    "headers = {'Authorization': \"Bearer \"+token}"
   ]
  },
  {
   "cell_type": "markdown",
   "id": "6c211142-2045-455a-b41e-20a94c549e03",
   "metadata": {},
   "source": [
    "# Create a Workflow Entry to the Catalog"
   ]
  },
  {
   "cell_type": "code",
   "execution_count": 3,
   "id": "81821430-20cf-4660-8a2b-b626059d878a",
   "metadata": {},
   "outputs": [
    {
     "name": "stdout",
     "output_type": "stream",
     "text": [
      "200\n",
      "{'help': 'https://klms-dev.stelar.gr/stelar/api/v1/workflow/publish', 'result': {'package_id': '18b9c30c-10dd-4bab-9517-fb721acaf25a'}, 'success': True}\n"
     ]
    }
   ],
   "source": [
    "##### The Name of the title should be unique!!!!!\n",
    "data = {\"package_metadata\": {\"title\": \"Forecast Model Orchestrator\",\n",
    "                             \"notes\": \"Pilot A2\",\n",
    "                             \"tags\": [\"Tool Development\", \"Example\"]}}\n",
    "response = requests.post(url + 'workflow/publish', \n",
    "                          json=data, headers=headers)\n",
    "print(response.status_code)\n",
    "print(response.json())\n",
    "package_id = response.json()['result']['package_id']"
   ]
  },
  {
   "cell_type": "markdown",
   "id": "922a0b8d",
   "metadata": {},
   "source": [
    "# Create a Workflow Execution"
   ]
  },
  {
   "cell_type": "code",
   "execution_count": 4,
   "id": "fda98f7d",
   "metadata": {},
   "outputs": [
    {
     "name": "stdout",
     "output_type": "stream",
     "text": [
      "200\n",
      "{'success': True, 'workflow_exec_id': '45684829-be7d-4bcc-805d-c1746399d0b8'}\n"
     ]
    }
   ],
   "source": [
    "data = {\"tags\": {\"package_id\":package_id}}\n",
    "response = requests.post(url + 'workflow/execution/create', \n",
    "                          json=data, headers=headers)\n",
    "print(response.status_code)\n",
    "print(response.json())\n",
    "workflow_exec_id = response.json()['workflow_exec_id']"
   ]
  },
  {
   "cell_type": "markdown",
   "id": "24e43226",
   "metadata": {},
   "source": [
    "# Create a task"
   ]
  },
  {
   "cell_type": "code",
   "execution_count": 6,
   "id": "ac2c13d4",
   "metadata": {
    "jupyter": {
     "source_hidden": true
    }
   },
   "outputs": [
    {
     "name": "stdout",
     "output_type": "stream",
     "text": [
      "200\n",
      "{'job_id': 'stelar-task-845b98a9-c254-4e77-9fa3-32c9631c3e13', 'success': True, 'task_exec_id': '845b98a9-c254-4e77-9fa3-32c9631c3e13'}\n"
     ]
    }
   ],
   "source": [
    "data = {\n",
    "        \"workflow_exec_id\": workflow_exec_id,\n",
    "        \"docker_image\": \"alexdarancio7/fomo:latest\",\n",
    "        \"input\": [\n",
    "          \"e1441ac6-c742-426b-b9b9-e5470f43254f\"\n",
    "        ],\n",
    "        \"parameters\": {\n",
    "          \"output_path\": \"s3://klms-bucket/fomo-test\",\n",
    "          \"budget\": 20,\n",
    "          \"window\": 100,\n",
    "          \"duration\": 10,\n",
    "          \"warmup\": 10,\n",
    "          \"prio_strategy\": \"random\",\n",
    "          \"selection_strategy\": \"singleton\"\n",
    "        },\n",
    "        \"package_id\": package_id,\n",
    "        \"tags\": {}}\n",
    "response = requests.post(url + 'task/execution/create', \n",
    "                          json=data, headers=headers)\n",
    "print(response.status_code)\n",
    "print(response.json())\n",
    "task_exec_id = response.json()['task_exec_id']"
   ]
  },
  {
   "cell_type": "code",
   "execution_count": 14,
   "id": "576c6c57-2f4d-47b5-ac09-d996438567c8",
   "metadata": {},
   "outputs": [
    {
     "name": "stdout",
     "output_type": "stream",
     "text": [
      "{'stelar-task-75b840e1-b8d1-446a-b3d4-d07bc5ff31b5-4kg28': {'logs': '{\"result\":{\"input\":[\"https://klms-dev.stelar.gr/dc/dataset/668f519f-048a-4f9b-abc8-266f1ca8e343/resource/8f5ceb61-fe01-4b77-96f6-3b0f43914e23/download/stocks_small.csv\"],\"minio\":{\"endpoint_url\":\"https://minio-dev.stelar.gr\",\"id\":\"B65J8F1ITN7F7UQ5B4XO\",\"key\":\"n+ikH7cPGBtHFHiCXdY7gGSNXY+k5JgMPz7ixtq8\",\"skey\":\"eyJhbGciOiJIUzUxMiIsInR5cCI6IkpXVCJ9.eyJhY2Nlc3NLZXkiOiJCNjVKOEYxSVRON0Y3VVE1QjRYTyIsImFjciI6IjEiLCJhdWQiOlsibWluaW8iLCJhY2NvdW50Il0sImF1dGhfdGltZSI6MTczMjA5Mzc0NywiYXpwIjoic3RlbGFyLWFwaSIsImVtYWlsIjoiai5lLmQuaG9uZHRAdHVlLm5sIiwiZW1haWxfdmVyaWZpZWQiOnRydWUsImV4cCI6MTczMjE3OTkxNywiZmFtaWx5X25hbWUiOiJkJ0hvbmR0IiwiZ2l2ZW5fbmFtZSI6IkplbnMiLCJpYXQiOjE3MzIwOTM3NDcsImlzcyI6Imh0dHBzOi8va2MtZGV2LnN0ZWxhci5nci9yZWFsbXMvbWFzdGVyIiwianRpIjoiYzQ1NGRiODItN2VjZi00MWYwLWI1NTgtMzkzYzY3MWM4NTQ1IiwibmFtZSI6IkplbnMgZCdIb25kdCIsInBvbGljeSI6ImNvbnNvbGVBZG1pbiIsInByZWZlcnJlZF91c2VybmFtZSI6ImpkaG9uZHQiLCJyZWFsbV9hY2Nlc3MiOnsicm9sZXMiOlsiZGVmYXVsdC1yb2xlcy1tYXN0ZXIiLCJvZmZsaW5lX2FjY2VzcyIsInVtYV9hdXRob3JpemF0aW9uIl19LCJyZXNvdXJjZV9hY2Nlc3MiOnsiYWNjb3VudCI6eyJyb2xlcyI6WyJtYW5hZ2UtYWNjb3VudCIsIm1hbmFnZS1hY2NvdW50LWxpbmtzIiwidmlldy1wcm9maWxlIl19LCJtaW5pbyI6eyJyb2xlcyI6WyJjb25zb2xlQWRtaW4iXX19LCJzY29wZSI6Im9wZW5pZCBlbWFpbCBwcm9maWxlIG1pbmlvX2F1dGhfc2NvcGUiLCJzaWQiOiI3MjM1NDIwMC0zYjZiLTQ0NTEtOTJiYy0xNDhkNGY4YzFhYzYiLCJzdWIiOiJiMmVlMTI2Ny1lMWQxLTRkOTAtYjEyZS02MWI5MGUxM2Q1NWQiLCJ0eXAiOiJCZWFyZXIifQ.NwIKF23bZglRJXIILshNp3EGeOZRbGOKiyUJcidvZaipaPyP8WCuLZxiKYdeYoAk63ZcxVsuNf7VVIpPfib3jQ\"},\"parameters\":{\"maxPLeft\":2,\"maxPRight\":2,\"outputPath\":\"s3://klms-bucket/correlation-detective-test\",\"seed\":1,\"simMetricName\":\"pearson_correlation\",\"topK\":20}},\"success\":true}\\nInput json:{\\n  \"input\": [\\n    \"https://klms-dev.stelar.gr/dc/dataset/668f519f-048a-4f9b-abc8-266f1ca8e343/resource/8f5ceb61-fe01-4b77-96f6-3b0f43914e23/download/stocks_small.csv\"\\n  ],\\n  \"minio\": {\\n    \"endpoint_url\": \"https://minio-dev.stelar.gr\",\\n    \"id\": \"B65J8F1ITN7F7UQ5B4XO\",\\n    \"key\": \"n+ikH7cPGBtHFHiCXdY7gGSNXY+k5JgMPz7ixtq8\",\\n    \"skey\": \"eyJhbGciOiJIUzUxMiIsInR5cCI6IkpXVCJ9.eyJhY2Nlc3NLZXkiOiJCNjVKOEYxSVRON0Y3VVE1QjRYTyIsImFjciI6IjEiLCJhdWQiOlsibWluaW8iLCJhY2NvdW50Il0sImF1dGhfdGltZSI6MTczMjA5Mzc0NywiYXpwIjoic3RlbGFyLWFwaSIsImVtYWlsIjoiai5lLmQuaG9uZHRAdHVlLm5sIiwiZW1haWxfdmVyaWZpZWQiOnRydWUsImV4cCI6MTczMjE3OTkxNywiZmFtaWx5X25hbWUiOiJkJ0hvbmR0IiwiZ2l2ZW5fbmFtZSI6IkplbnMiLCJpYXQiOjE3MzIwOTM3NDcsImlzcyI6Imh0dHBzOi8va2MtZGV2LnN0ZWxhci5nci9yZWFsbXMvbWFzdGVyIiwianRpIjoiYzQ1NGRiODItN2VjZi00MWYwLWI1NTgtMzkzYzY3MWM4NTQ1IiwibmFtZSI6IkplbnMgZCdIb25kdCIsInBvbGljeSI6ImNvbnNvbGVBZG1pbiIsInByZWZlcnJlZF91c2VybmFtZSI6ImpkaG9uZHQiLCJyZWFsbV9hY2Nlc3MiOnsicm9sZXMiOlsiZGVmYXVsdC1yb2xlcy1tYXN0ZXIiLCJvZmZsaW5lX2FjY2VzcyIsInVtYV9hdXRob3JpemF0aW9uIl19LCJyZXNvdXJjZV9hY2Nlc3MiOnsiYWNjb3VudCI6eyJyb2xlcyI6WyJtYW5hZ2UtYWNjb3VudCIsIm1hbmFnZS1hY2NvdW50LWxpbmtzIiwidmlldy1wcm9maWxlIl19LCJtaW5pbyI6eyJyb2xlcyI6WyJjb25zb2xlQWRtaW4iXX19LCJzY29wZSI6Im9wZW5pZCBlbWFpbCBwcm9maWxlIG1pbmlvX2F1dGhfc2NvcGUiLCJzaWQiOiI3MjM1NDIwMC0zYjZiLTQ0NTEtOTJiYy0xNDhkNGY4YzFhYzYiLCJzdWIiOiJiMmVlMTI2Ny1lMWQxLTRkOTAtYjEyZS02MWI5MGUxM2Q1NWQiLCJ0eXAiOiJCZWFyZXIifQ.NwIKF23bZglRJXIILshNp3EGeOZRbGOKiyUJcidvZaipaPyP8WCuLZxiKYdeYoAk63ZcxVsuNf7VVIpPfib3jQ\"\\n  },\\n  \"parameters\": {\\n    \"maxPLeft\": 2,\\n    \"maxPRight\": 2,\\n    \"outputPath\": \"s3://klms-bucket/correlation-detective-test\",\\n    \"seed\": 1,\\n    \"simMetricName\": \"pearson_correlation\",\\n    \"topK\": 20\\n  }\\n}\\n\\njava.lang.IllegalArgumentException: bucket name \\'https:\\' does not follow Amazon S3 standards. For more information refer https://docs.aws.amazon.com/AmazonS3/latest/userguide/bucketnamingrules.html\\n\\tat io.minio.BucketArgs$Builder.validateBucketName(BucketArgs.java:47)\\n\\tat io.minio.BucketArgs$Builder.bucket(BucketArgs.java:78)\\n\\tat data_io.MinioHandler.bucketExists(MinioHandler.java:80)\\n\\tat data_io.MinioHandler.checkPath(MinioHandler.java:96)\\n\\tat data_io.MinioHandler.getBufferedDataReader(MinioHandler.java:162)\\n\\tat data_io.DataHandler.readCSV(DataHandler.java:111)\\n\\tat core.RunParameters.loadDataset(RunParameters.java:285)\\n\\tat core.RunParameters.check(RunParameters.java:218)\\n\\tat core.RunParameters.init(RunParameters.java:151)\\n\\tat algorithms.performance.CorrelationDetective.run(CorrelationDetective.java:51)\\n\\tat core.Main.run(Main.java:206)\\n\\tat core.Main.main(Main.java:44)\\nException in thread \"main\" java.util.InputMismatchException: Could not read CSV file: https://klms-dev.stelar.gr/dc/dataset/668f519f-048a-4f9b-abc8-266f1ca8e343/resource/8f5ceb61-fe01-4b77-96f6-3b0f43914e23/download/stocks_small.csv, please check the format and location of the file.\\nBucket \\'https:\\' does not exist\\n\\tat data_io.DataHandler.readCSV(DataHandler.java:122)\\n\\tat core.RunParameters.loadDataset(RunParameters.java:285)\\n\\tat core.RunParameters.check(RunParameters.java:218)\\n\\tat core.RunParameters.init(RunParameters.java:151)\\n\\tat algorithms.performance.CorrelationDetective.run(CorrelationDetective.java:51)\\n\\tat core.Main.run(Main.java:206)\\n\\tat core.Main.main(Main.java:44)\\n./run.sh: line 36: output.json: No such file or directory\\n\\n{\"detail\":{},\"message\":\"Bad Request\"}\\nSecond curl request failed\\n', 'status': 'Failed'}, 'stelar-task-75b840e1-b8d1-446a-b3d4-d07bc5ff31b5-8psdl': {'logs': '{\"result\":{\"input\":[\"https://klms-dev.stelar.gr/dc/dataset/668f519f-048a-4f9b-abc8-266f1ca8e343/resource/8f5ceb61-fe01-4b77-96f6-3b0f43914e23/download/stocks_small.csv\"],\"minio\":{\"endpoint_url\":\"https://minio-dev.stelar.gr\",\"id\":\"EZWIQGQXUGW1RZ20W80Z\",\"key\":\"M8aTMk5J8a2LPqdYeZ8tOSWBEeYPXf4jUMvlkLD5\",\"skey\":\"eyJhbGciOiJIUzUxMiIsInR5cCI6IkpXVCJ9.eyJhY2Nlc3NLZXkiOiJFWldJUUdRWFVHVzFSWjIwVzgwWiIsImFjciI6IjEiLCJhdWQiOlsibWluaW8iLCJhY2NvdW50Il0sImF1dGhfdGltZSI6MTczMjA5Mzc0NywiYXpwIjoic3RlbGFyLWFwaSIsImVtYWlsIjoiai5lLmQuaG9uZHRAdHVlLm5sIiwiZW1haWxfdmVyaWZpZWQiOnRydWUsImV4cCI6MTczMjE3OTgzNywiZmFtaWx5X25hbWUiOiJkJ0hvbmR0IiwiZ2l2ZW5fbmFtZSI6IkplbnMiLCJpYXQiOjE3MzIwOTM3NDcsImlzcyI6Imh0dHBzOi8va2MtZGV2LnN0ZWxhci5nci9yZWFsbXMvbWFzdGVyIiwianRpIjoiYzQ1NGRiODItN2VjZi00MWYwLWI1NTgtMzkzYzY3MWM4NTQ1IiwibmFtZSI6IkplbnMgZCdIb25kdCIsInBvbGljeSI6ImNvbnNvbGVBZG1pbiIsInByZWZlcnJlZF91c2VybmFtZSI6ImpkaG9uZHQiLCJyZWFsbV9hY2Nlc3MiOnsicm9sZXMiOlsiZGVmYXVsdC1yb2xlcy1tYXN0ZXIiLCJvZmZsaW5lX2FjY2VzcyIsInVtYV9hdXRob3JpemF0aW9uIl19LCJyZXNvdXJjZV9hY2Nlc3MiOnsiYWNjb3VudCI6eyJyb2xlcyI6WyJtYW5hZ2UtYWNjb3VudCIsIm1hbmFnZS1hY2NvdW50LWxpbmtzIiwidmlldy1wcm9maWxlIl19LCJtaW5pbyI6eyJyb2xlcyI6WyJjb25zb2xlQWRtaW4iXX19LCJzY29wZSI6Im9wZW5pZCBlbWFpbCBwcm9maWxlIG1pbmlvX2F1dGhfc2NvcGUiLCJzaWQiOiI3MjM1NDIwMC0zYjZiLTQ0NTEtOTJiYy0xNDhkNGY4YzFhYzYiLCJzdWIiOiJiMmVlMTI2Ny1lMWQxLTRkOTAtYjEyZS02MWI5MGUxM2Q1NWQiLCJ0eXAiOiJCZWFyZXIifQ.D-CDgDoRlzYGEsfj_oEYmdp2zWDf4exwJXW2Tjg8AbiV6P3x3-S47ZI5krz5FSLGTElLhwhNqnhi1dlNyk-kEg\"},\"parameters\":{\"maxPLeft\":2,\"maxPRight\":2,\"outputPath\":\"s3://klms-bucket/correlation-detective-test\",\"seed\":1,\"simMetricName\":\"pearson_correlation\",\"topK\":20}},\"success\":true}\\nInput json:{\\n  \"input\": [\\n    \"https://klms-dev.stelar.gr/dc/dataset/668f519f-048a-4f9b-abc8-266f1ca8e343/resource/8f5ceb61-fe01-4b77-96f6-3b0f43914e23/download/stocks_small.csv\"\\n  ],\\n  \"minio\": {\\n    \"endpoint_url\": \"https://minio-dev.stelar.gr\",\\n    \"id\": \"EZWIQGQXUGW1RZ20W80Z\",\\n    \"key\": \"M8aTMk5J8a2LPqdYeZ8tOSWBEeYPXf4jUMvlkLD5\",\\n    \"skey\": \"eyJhbGciOiJIUzUxMiIsInR5cCI6IkpXVCJ9.eyJhY2Nlc3NLZXkiOiJFWldJUUdRWFVHVzFSWjIwVzgwWiIsImFjciI6IjEiLCJhdWQiOlsibWluaW8iLCJhY2NvdW50Il0sImF1dGhfdGltZSI6MTczMjA5Mzc0NywiYXpwIjoic3RlbGFyLWFwaSIsImVtYWlsIjoiai5lLmQuaG9uZHRAdHVlLm5sIiwiZW1haWxfdmVyaWZpZWQiOnRydWUsImV4cCI6MTczMjE3OTgzNywiZmFtaWx5X25hbWUiOiJkJ0hvbmR0IiwiZ2l2ZW5fbmFtZSI6IkplbnMiLCJpYXQiOjE3MzIwOTM3NDcsImlzcyI6Imh0dHBzOi8va2MtZGV2LnN0ZWxhci5nci9yZWFsbXMvbWFzdGVyIiwianRpIjoiYzQ1NGRiODItN2VjZi00MWYwLWI1NTgtMzkzYzY3MWM4NTQ1IiwibmFtZSI6IkplbnMgZCdIb25kdCIsInBvbGljeSI6ImNvbnNvbGVBZG1pbiIsInByZWZlcnJlZF91c2VybmFtZSI6ImpkaG9uZHQiLCJyZWFsbV9hY2Nlc3MiOnsicm9sZXMiOlsiZGVmYXVsdC1yb2xlcy1tYXN0ZXIiLCJvZmZsaW5lX2FjY2VzcyIsInVtYV9hdXRob3JpemF0aW9uIl19LCJyZXNvdXJjZV9hY2Nlc3MiOnsiYWNjb3VudCI6eyJyb2xlcyI6WyJtYW5hZ2UtYWNjb3VudCIsIm1hbmFnZS1hY2NvdW50LWxpbmtzIiwidmlldy1wcm9maWxlIl19LCJtaW5pbyI6eyJyb2xlcyI6WyJjb25zb2xlQWRtaW4iXX19LCJzY29wZSI6Im9wZW5pZCBlbWFpbCBwcm9maWxlIG1pbmlvX2F1dGhfc2NvcGUiLCJzaWQiOiI3MjM1NDIwMC0zYjZiLTQ0NTEtOTJiYy0xNDhkNGY4YzFhYzYiLCJzdWIiOiJiMmVlMTI2Ny1lMWQxLTRkOTAtYjEyZS02MWI5MGUxM2Q1NWQiLCJ0eXAiOiJCZWFyZXIifQ.D-CDgDoRlzYGEsfj_oEYmdp2zWDf4exwJXW2Tjg8AbiV6P3x3-S47ZI5krz5FSLGTElLhwhNqnhi1dlNyk-kEg\"\\n  },\\n  \"parameters\": {\\n    \"maxPLeft\": 2,\\n    \"maxPRight\": 2,\\n    \"outputPath\": \"s3://klms-bucket/correlation-detective-test\",\\n    \"seed\": 1,\\n    \"simMetricName\": \"pearson_correlation\",\\n    \"topK\": 20\\n  }\\n}\\n\\njava.lang.IllegalArgumentException: bucket name \\'https:\\' does not follow Amazon S3 standards. For more information refer https://docs.aws.amazon.com/AmazonS3/latest/userguide/bucketnamingrules.html\\n\\tat io.minio.BucketArgs$Builder.validateBucketName(BucketArgs.java:47)\\n\\tat io.minio.BucketArgs$Builder.bucket(BucketArgs.java:78)\\n\\tat data_io.MinioHandler.bucketExists(MinioHandler.java:80)\\n\\tat data_io.MinioHandler.checkPath(MinioHandler.java:96)\\n\\tat data_io.MinioHandler.getBufferedDataReader(MinioHandler.java:162)\\n\\tat data_io.DataHandler.readCSV(DataHandler.java:111)\\n\\tat core.RunParameters.loadDataset(RunParameters.java:285)\\n\\tat core.RunParameters.check(RunParameters.java:218)\\n\\tat core.RunParameters.init(RunParameters.java:151)\\n\\tat algorithms.performance.CorrelationDetective.run(CorrelationDetective.java:51)\\n\\tat core.Main.run(Main.java:206)\\n\\tat core.Main.main(Main.java:44)\\nException in thread \"main\" java.util.InputMismatchException: Could not read CSV file: https://klms-dev.stelar.gr/dc/dataset/668f519f-048a-4f9b-abc8-266f1ca8e343/resource/8f5ceb61-fe01-4b77-96f6-3b0f43914e23/download/stocks_small.csv, please check the format and location of the file.\\nBucket \\'https:\\' does not exist\\n\\tat data_io.DataHandler.readCSV(DataHandler.java:122)\\n\\tat core.RunParameters.loadDataset(RunParameters.java:285)\\n\\tat core.RunParameters.check(RunParameters.java:218)\\n\\tat core.RunParameters.init(RunParameters.java:151)\\n\\tat algorithms.performance.CorrelationDetective.run(CorrelationDetective.java:51)\\n\\tat core.Main.run(Main.java:206)\\n\\tat core.Main.main(Main.java:44)\\n./run.sh: line 36: output.json: No such file or directory\\n\\n{\"detail\":{},\"message\":\"Bad Request\"}\\nSecond curl request failed\\n', 'status': 'Failed'}, 'stelar-task-75b840e1-b8d1-446a-b3d4-d07bc5ff31b5-bbx45': {'logs': '{\"result\":{\"input\":[\"https://klms-dev.stelar.gr/dc/dataset/668f519f-048a-4f9b-abc8-266f1ca8e343/resource/8f5ceb61-fe01-4b77-96f6-3b0f43914e23/download/stocks_small.csv\"],\"minio\":{\"endpoint_url\":\"https://minio-dev.stelar.gr\",\"id\":\"8SBY1VGNTP9WUD4BGKIQ\",\"key\":\"vArJcnAOWmcvl1VjqMWDVefoffi0d6qZ0reNKNrh\",\"skey\":\"eyJhbGciOiJIUzUxMiIsInR5cCI6IkpXVCJ9.eyJhY2Nlc3NLZXkiOiI4U0JZMVZHTlRQOVdVRDRCR0tJUSIsImFjciI6IjEiLCJhdWQiOlsibWluaW8iLCJhY2NvdW50Il0sImF1dGhfdGltZSI6MTczMjA5Mzc0NywiYXpwIjoic3RlbGFyLWFwaSIsImVtYWlsIjoiai5lLmQuaG9uZHRAdHVlLm5sIiwiZW1haWxfdmVyaWZpZWQiOnRydWUsImV4cCI6MTczMjE3OTg3NCwiZmFtaWx5X25hbWUiOiJkJ0hvbmR0IiwiZ2l2ZW5fbmFtZSI6IkplbnMiLCJpYXQiOjE3MzIwOTM3NDcsImlzcyI6Imh0dHBzOi8va2MtZGV2LnN0ZWxhci5nci9yZWFsbXMvbWFzdGVyIiwianRpIjoiYzQ1NGRiODItN2VjZi00MWYwLWI1NTgtMzkzYzY3MWM4NTQ1IiwibmFtZSI6IkplbnMgZCdIb25kdCIsInBvbGljeSI6ImNvbnNvbGVBZG1pbiIsInByZWZlcnJlZF91c2VybmFtZSI6ImpkaG9uZHQiLCJyZWFsbV9hY2Nlc3MiOnsicm9sZXMiOlsiZGVmYXVsdC1yb2xlcy1tYXN0ZXIiLCJvZmZsaW5lX2FjY2VzcyIsInVtYV9hdXRob3JpemF0aW9uIl19LCJyZXNvdXJjZV9hY2Nlc3MiOnsiYWNjb3VudCI6eyJyb2xlcyI6WyJtYW5hZ2UtYWNjb3VudCIsIm1hbmFnZS1hY2NvdW50LWxpbmtzIiwidmlldy1wcm9maWxlIl19LCJtaW5pbyI6eyJyb2xlcyI6WyJjb25zb2xlQWRtaW4iXX19LCJzY29wZSI6Im9wZW5pZCBlbWFpbCBwcm9maWxlIG1pbmlvX2F1dGhfc2NvcGUiLCJzaWQiOiI3MjM1NDIwMC0zYjZiLTQ0NTEtOTJiYy0xNDhkNGY4YzFhYzYiLCJzdWIiOiJiMmVlMTI2Ny1lMWQxLTRkOTAtYjEyZS02MWI5MGUxM2Q1NWQiLCJ0eXAiOiJCZWFyZXIifQ.WO9tFG4_OJ8KmnuAwsMSGgPV1g3oaPdrpWpXy9IyUmIO5cqhd2YaHSx5NnQt3_ReMC7ncsA--W5JkrB7zpebmw\"},\"parameters\":{\"maxPLeft\":2,\"maxPRight\":2,\"outputPath\":\"s3://klms-bucket/correlation-detective-test\",\"seed\":1,\"simMetricName\":\"pearson_correlation\",\"topK\":20}},\"success\":true}\\nInput json:{\\n  \"input\": [\\n    \"https://klms-dev.stelar.gr/dc/dataset/668f519f-048a-4f9b-abc8-266f1ca8e343/resource/8f5ceb61-fe01-4b77-96f6-3b0f43914e23/download/stocks_small.csv\"\\n  ],\\n  \"minio\": {\\n    \"endpoint_url\": \"https://minio-dev.stelar.gr\",\\n    \"id\": \"8SBY1VGNTP9WUD4BGKIQ\",\\n    \"key\": \"vArJcnAOWmcvl1VjqMWDVefoffi0d6qZ0reNKNrh\",\\n    \"skey\": \"eyJhbGciOiJIUzUxMiIsInR5cCI6IkpXVCJ9.eyJhY2Nlc3NLZXkiOiI4U0JZMVZHTlRQOVdVRDRCR0tJUSIsImFjciI6IjEiLCJhdWQiOlsibWluaW8iLCJhY2NvdW50Il0sImF1dGhfdGltZSI6MTczMjA5Mzc0NywiYXpwIjoic3RlbGFyLWFwaSIsImVtYWlsIjoiai5lLmQuaG9uZHRAdHVlLm5sIiwiZW1haWxfdmVyaWZpZWQiOnRydWUsImV4cCI6MTczMjE3OTg3NCwiZmFtaWx5X25hbWUiOiJkJ0hvbmR0IiwiZ2l2ZW5fbmFtZSI6IkplbnMiLCJpYXQiOjE3MzIwOTM3NDcsImlzcyI6Imh0dHBzOi8va2MtZGV2LnN0ZWxhci5nci9yZWFsbXMvbWFzdGVyIiwianRpIjoiYzQ1NGRiODItN2VjZi00MWYwLWI1NTgtMzkzYzY3MWM4NTQ1IiwibmFtZSI6IkplbnMgZCdIb25kdCIsInBvbGljeSI6ImNvbnNvbGVBZG1pbiIsInByZWZlcnJlZF91c2VybmFtZSI6ImpkaG9uZHQiLCJyZWFsbV9hY2Nlc3MiOnsicm9sZXMiOlsiZGVmYXVsdC1yb2xlcy1tYXN0ZXIiLCJvZmZsaW5lX2FjY2VzcyIsInVtYV9hdXRob3JpemF0aW9uIl19LCJyZXNvdXJjZV9hY2Nlc3MiOnsiYWNjb3VudCI6eyJyb2xlcyI6WyJtYW5hZ2UtYWNjb3VudCIsIm1hbmFnZS1hY2NvdW50LWxpbmtzIiwidmlldy1wcm9maWxlIl19LCJtaW5pbyI6eyJyb2xlcyI6WyJjb25zb2xlQWRtaW4iXX19LCJzY29wZSI6Im9wZW5pZCBlbWFpbCBwcm9maWxlIG1pbmlvX2F1dGhfc2NvcGUiLCJzaWQiOiI3MjM1NDIwMC0zYjZiLTQ0NTEtOTJiYy0xNDhkNGY4YzFhYzYiLCJzdWIiOiJiMmVlMTI2Ny1lMWQxLTRkOTAtYjEyZS02MWI5MGUxM2Q1NWQiLCJ0eXAiOiJCZWFyZXIifQ.WO9tFG4_OJ8KmnuAwsMSGgPV1g3oaPdrpWpXy9IyUmIO5cqhd2YaHSx5NnQt3_ReMC7ncsA--W5JkrB7zpebmw\"\\n  },\\n  \"parameters\": {\\n    \"maxPLeft\": 2,\\n    \"maxPRight\": 2,\\n    \"outputPath\": \"s3://klms-bucket/correlation-detective-test\",\\n    \"seed\": 1,\\n    \"simMetricName\": \"pearson_correlation\",\\n    \"topK\": 20\\n  }\\n}\\n\\njava.lang.IllegalArgumentException: bucket name \\'https:\\' does not follow Amazon S3 standards. For more information refer https://docs.aws.amazon.com/AmazonS3/latest/userguide/bucketnamingrules.html\\n\\tat io.minio.BucketArgs$Builder.validateBucketName(BucketArgs.java:47)\\n\\tat io.minio.BucketArgs$Builder.bucket(BucketArgs.java:78)\\n\\tat data_io.MinioHandler.bucketExists(MinioHandler.java:80)\\n\\tat data_io.MinioHandler.checkPath(MinioHandler.java:96)\\n\\tat data_io.MinioHandler.getBufferedDataReader(MinioHandler.java:162)\\n\\tat data_io.DataHandler.readCSV(DataHandler.java:111)\\n\\tat core.RunParameters.loadDataset(RunParameters.java:285)\\n\\tat core.RunParameters.check(RunParameters.java:218)\\n\\tat core.RunParameters.init(RunParameters.java:151)\\n\\tat algorithms.performance.CorrelationDetective.run(CorrelationDetective.java:51)\\n\\tat core.Main.run(Main.java:206)\\n\\tat core.Main.main(Main.java:44)\\nException in thread \"main\" java.util.InputMismatchException: Could not read CSV file: https://klms-dev.stelar.gr/dc/dataset/668f519f-048a-4f9b-abc8-266f1ca8e343/resource/8f5ceb61-fe01-4b77-96f6-3b0f43914e23/download/stocks_small.csv, please check the format and location of the file.\\nBucket \\'https:\\' does not exist\\n\\tat data_io.DataHandler.readCSV(DataHandler.java:122)\\n\\tat core.RunParameters.loadDataset(RunParameters.java:285)\\n\\tat core.RunParameters.check(RunParameters.java:218)\\n\\tat core.RunParameters.init(RunParameters.java:151)\\n\\tat algorithms.performance.CorrelationDetective.run(CorrelationDetective.java:51)\\n\\tat core.Main.run(Main.java:206)\\n\\tat core.Main.main(Main.java:44)\\n./run.sh: line 36: output.json: No such file or directory\\n\\n{\"detail\":{},\"message\":\"Bad Request\"}\\nSecond curl request failed\\n', 'status': 'Failed'}, 'stelar-task-75b840e1-b8d1-446a-b3d4-d07bc5ff31b5-kqr5m': {'logs': '{\"result\":{\"input\":[\"https://klms-dev.stelar.gr/dc/dataset/668f519f-048a-4f9b-abc8-266f1ca8e343/resource/8f5ceb61-fe01-4b77-96f6-3b0f43914e23/download/stocks_small.csv\"],\"minio\":{\"endpoint_url\":\"https://minio-dev.stelar.gr\",\"id\":\"VTXJ4QJHJY98WGQ4CI03\",\"key\":\"KpnQcu+cgKKirAB7R4LKVXKA10+Dwn0Hkyez0Mhm\",\"skey\":\"eyJhbGciOiJIUzUxMiIsInR5cCI6IkpXVCJ9.eyJhY2Nlc3NLZXkiOiJWVFhKNFFKSEpZOThXR1E0Q0kwMyIsImFjciI6IjEiLCJhdWQiOlsibWluaW8iLCJhY2NvdW50Il0sImF1dGhfdGltZSI6MTczMjA5Mzc0NywiYXpwIjoic3RlbGFyLWFwaSIsImVtYWlsIjoiai5lLmQuaG9uZHRAdHVlLm5sIiwiZW1haWxfdmVyaWZpZWQiOnRydWUsImV4cCI6MTczMjE3OTg1MSwiZmFtaWx5X25hbWUiOiJkJ0hvbmR0IiwiZ2l2ZW5fbmFtZSI6IkplbnMiLCJpYXQiOjE3MzIwOTM3NDcsImlzcyI6Imh0dHBzOi8va2MtZGV2LnN0ZWxhci5nci9yZWFsbXMvbWFzdGVyIiwianRpIjoiYzQ1NGRiODItN2VjZi00MWYwLWI1NTgtMzkzYzY3MWM4NTQ1IiwibmFtZSI6IkplbnMgZCdIb25kdCIsInBvbGljeSI6ImNvbnNvbGVBZG1pbiIsInByZWZlcnJlZF91c2VybmFtZSI6ImpkaG9uZHQiLCJyZWFsbV9hY2Nlc3MiOnsicm9sZXMiOlsiZGVmYXVsdC1yb2xlcy1tYXN0ZXIiLCJvZmZsaW5lX2FjY2VzcyIsInVtYV9hdXRob3JpemF0aW9uIl19LCJyZXNvdXJjZV9hY2Nlc3MiOnsiYWNjb3VudCI6eyJyb2xlcyI6WyJtYW5hZ2UtYWNjb3VudCIsIm1hbmFnZS1hY2NvdW50LWxpbmtzIiwidmlldy1wcm9maWxlIl19LCJtaW5pbyI6eyJyb2xlcyI6WyJjb25zb2xlQWRtaW4iXX19LCJzY29wZSI6Im9wZW5pZCBlbWFpbCBwcm9maWxlIG1pbmlvX2F1dGhfc2NvcGUiLCJzaWQiOiI3MjM1NDIwMC0zYjZiLTQ0NTEtOTJiYy0xNDhkNGY4YzFhYzYiLCJzdWIiOiJiMmVlMTI2Ny1lMWQxLTRkOTAtYjEyZS02MWI5MGUxM2Q1NWQiLCJ0eXAiOiJCZWFyZXIifQ.ZviOxV8MwD1sJ19r-ziuatppfRFw85spgs09ppRA7wBCgDp49PGSzHUMmJyKKqCk7Q_2OeXoE5Nz97-u9ga9dg\"},\"parameters\":{\"maxPLeft\":2,\"maxPRight\":2,\"outputPath\":\"s3://klms-bucket/correlation-detective-test\",\"seed\":1,\"simMetricName\":\"pearson_correlation\",\"topK\":20}},\"success\":true}\\nInput json:{\\n  \"input\": [\\n    \"https://klms-dev.stelar.gr/dc/dataset/668f519f-048a-4f9b-abc8-266f1ca8e343/resource/8f5ceb61-fe01-4b77-96f6-3b0f43914e23/download/stocks_small.csv\"\\n  ],\\n  \"minio\": {\\n    \"endpoint_url\": \"https://minio-dev.stelar.gr\",\\n    \"id\": \"VTXJ4QJHJY98WGQ4CI03\",\\n    \"key\": \"KpnQcu+cgKKirAB7R4LKVXKA10+Dwn0Hkyez0Mhm\",\\n    \"skey\": \"eyJhbGciOiJIUzUxMiIsInR5cCI6IkpXVCJ9.eyJhY2Nlc3NLZXkiOiJWVFhKNFFKSEpZOThXR1E0Q0kwMyIsImFjciI6IjEiLCJhdWQiOlsibWluaW8iLCJhY2NvdW50Il0sImF1dGhfdGltZSI6MTczMjA5Mzc0NywiYXpwIjoic3RlbGFyLWFwaSIsImVtYWlsIjoiai5lLmQuaG9uZHRAdHVlLm5sIiwiZW1haWxfdmVyaWZpZWQiOnRydWUsImV4cCI6MTczMjE3OTg1MSwiZmFtaWx5X25hbWUiOiJkJ0hvbmR0IiwiZ2l2ZW5fbmFtZSI6IkplbnMiLCJpYXQiOjE3MzIwOTM3NDcsImlzcyI6Imh0dHBzOi8va2MtZGV2LnN0ZWxhci5nci9yZWFsbXMvbWFzdGVyIiwianRpIjoiYzQ1NGRiODItN2VjZi00MWYwLWI1NTgtMzkzYzY3MWM4NTQ1IiwibmFtZSI6IkplbnMgZCdIb25kdCIsInBvbGljeSI6ImNvbnNvbGVBZG1pbiIsInByZWZlcnJlZF91c2VybmFtZSI6ImpkaG9uZHQiLCJyZWFsbV9hY2Nlc3MiOnsicm9sZXMiOlsiZGVmYXVsdC1yb2xlcy1tYXN0ZXIiLCJvZmZsaW5lX2FjY2VzcyIsInVtYV9hdXRob3JpemF0aW9uIl19LCJyZXNvdXJjZV9hY2Nlc3MiOnsiYWNjb3VudCI6eyJyb2xlcyI6WyJtYW5hZ2UtYWNjb3VudCIsIm1hbmFnZS1hY2NvdW50LWxpbmtzIiwidmlldy1wcm9maWxlIl19LCJtaW5pbyI6eyJyb2xlcyI6WyJjb25zb2xlQWRtaW4iXX19LCJzY29wZSI6Im9wZW5pZCBlbWFpbCBwcm9maWxlIG1pbmlvX2F1dGhfc2NvcGUiLCJzaWQiOiI3MjM1NDIwMC0zYjZiLTQ0NTEtOTJiYy0xNDhkNGY4YzFhYzYiLCJzdWIiOiJiMmVlMTI2Ny1lMWQxLTRkOTAtYjEyZS02MWI5MGUxM2Q1NWQiLCJ0eXAiOiJCZWFyZXIifQ.ZviOxV8MwD1sJ19r-ziuatppfRFw85spgs09ppRA7wBCgDp49PGSzHUMmJyKKqCk7Q_2OeXoE5Nz97-u9ga9dg\"\\n  },\\n  \"parameters\": {\\n    \"maxPLeft\": 2,\\n    \"maxPRight\": 2,\\n    \"outputPath\": \"s3://klms-bucket/correlation-detective-test\",\\n    \"seed\": 1,\\n    \"simMetricName\": \"pearson_correlation\",\\n    \"topK\": 20\\n  }\\n}\\n\\njava.lang.IllegalArgumentException: bucket name \\'https:\\' does not follow Amazon S3 standards. For more information refer https://docs.aws.amazon.com/AmazonS3/latest/userguide/bucketnamingrules.html\\n\\tat io.minio.BucketArgs$Builder.validateBucketName(BucketArgs.java:47)\\n\\tat io.minio.BucketArgs$Builder.bucket(BucketArgs.java:78)\\n\\tat data_io.MinioHandler.bucketExists(MinioHandler.java:80)\\n\\tat data_io.MinioHandler.checkPath(MinioHandler.java:96)\\n\\tat data_io.MinioHandler.getBufferedDataReader(MinioHandler.java:162)\\n\\tat data_io.DataHandler.readCSV(DataHandler.java:111)\\n\\tat core.RunParameters.loadDataset(RunParameters.java:285)\\n\\tat core.RunParameters.check(RunParameters.java:218)\\n\\tat core.RunParameters.init(RunParameters.java:151)\\n\\tat algorithms.performance.CorrelationDetective.run(CorrelationDetective.java:51)\\n\\tat core.Main.run(Main.java:206)\\n\\tat core.Main.main(Main.java:44)\\nException in thread \"main\" java.util.InputMismatchException: Could not read CSV file: https://klms-dev.stelar.gr/dc/dataset/668f519f-048a-4f9b-abc8-266f1ca8e343/resource/8f5ceb61-fe01-4b77-96f6-3b0f43914e23/download/stocks_small.csv, please check the format and location of the file.\\nBucket \\'https:\\' does not exist\\n\\tat data_io.DataHandler.readCSV(DataHandler.java:122)\\n\\tat core.RunParameters.loadDataset(RunParameters.java:285)\\n\\tat core.RunParameters.check(RunParameters.java:218)\\n\\tat core.RunParameters.init(RunParameters.java:151)\\n\\tat algorithms.performance.CorrelationDetective.run(CorrelationDetective.java:51)\\n\\tat core.Main.run(Main.java:206)\\n\\tat core.Main.main(Main.java:44)\\n./run.sh: line 36: output.json: No such file or directory\\n\\n{\"detail\":{},\"message\":\"Bad Request\"}\\nSecond curl request failed\\n', 'status': 'Failed'}, 'stelar-task-75b840e1-b8d1-446a-b3d4-d07bc5ff31b5-nnlpd': {'logs': '{\"result\":{\"input\":[\"https://klms-dev.stelar.gr/dc/dataset/668f519f-048a-4f9b-abc8-266f1ca8e343/resource/8f5ceb61-fe01-4b77-96f6-3b0f43914e23/download/stocks_small.csv\"],\"minio\":{\"endpoint_url\":\"https://minio-dev.stelar.gr\",\"id\":\"X3TKWNS34DRXTSH19AVJ\",\"key\":\"C1Jv+fVLcA50vvsxJ+RFZWldQqteRUiIoT++S1Rd\",\"skey\":\"eyJhbGciOiJIUzUxMiIsInR5cCI6IkpXVCJ9.eyJhY2Nlc3NLZXkiOiJYM1RLV05TMzREUlhUU0gxOUFWSiIsImFjciI6IjEiLCJhdWQiOlsibWluaW8iLCJhY2NvdW50Il0sImF1dGhfdGltZSI6MTczMjA5Mzc0NywiYXpwIjoic3RlbGFyLWFwaSIsImVtYWlsIjoiai5lLmQuaG9uZHRAdHVlLm5sIiwiZW1haWxfdmVyaWZpZWQiOnRydWUsImV4cCI6MTczMjE4MDAwMCwiZmFtaWx5X25hbWUiOiJkJ0hvbmR0IiwiZ2l2ZW5fbmFtZSI6IkplbnMiLCJpYXQiOjE3MzIwOTM3NDcsImlzcyI6Imh0dHBzOi8va2MtZGV2LnN0ZWxhci5nci9yZWFsbXMvbWFzdGVyIiwianRpIjoiYzQ1NGRiODItN2VjZi00MWYwLWI1NTgtMzkzYzY3MWM4NTQ1IiwibmFtZSI6IkplbnMgZCdIb25kdCIsInBvbGljeSI6ImNvbnNvbGVBZG1pbiIsInByZWZlcnJlZF91c2VybmFtZSI6ImpkaG9uZHQiLCJyZWFsbV9hY2Nlc3MiOnsicm9sZXMiOlsiZGVmYXVsdC1yb2xlcy1tYXN0ZXIiLCJvZmZsaW5lX2FjY2VzcyIsInVtYV9hdXRob3JpemF0aW9uIl19LCJyZXNvdXJjZV9hY2Nlc3MiOnsiYWNjb3VudCI6eyJyb2xlcyI6WyJtYW5hZ2UtYWNjb3VudCIsIm1hbmFnZS1hY2NvdW50LWxpbmtzIiwidmlldy1wcm9maWxlIl19LCJtaW5pbyI6eyJyb2xlcyI6WyJjb25zb2xlQWRtaW4iXX19LCJzY29wZSI6Im9wZW5pZCBlbWFpbCBwcm9maWxlIG1pbmlvX2F1dGhfc2NvcGUiLCJzaWQiOiI3MjM1NDIwMC0zYjZiLTQ0NTEtOTJiYy0xNDhkNGY4YzFhYzYiLCJzdWIiOiJiMmVlMTI2Ny1lMWQxLTRkOTAtYjEyZS02MWI5MGUxM2Q1NWQiLCJ0eXAiOiJCZWFyZXIifQ.mpYLHUgmSZkf0LmpuJR_cDRQGdW0TrGvotwcU0es5HR6WugRvioOkP4ZRXCx14JFF295YBrGTW7mNoBylv9UfA\"},\"parameters\":{\"maxPLeft\":2,\"maxPRight\":2,\"outputPath\":\"s3://klms-bucket/correlation-detective-test\",\"seed\":1,\"simMetricName\":\"pearson_correlation\",\"topK\":20}},\"success\":true}\\nInput json:{\\n  \"input\": [\\n    \"https://klms-dev.stelar.gr/dc/dataset/668f519f-048a-4f9b-abc8-266f1ca8e343/resource/8f5ceb61-fe01-4b77-96f6-3b0f43914e23/download/stocks_small.csv\"\\n  ],\\n  \"minio\": {\\n    \"endpoint_url\": \"https://minio-dev.stelar.gr\",\\n    \"id\": \"X3TKWNS34DRXTSH19AVJ\",\\n    \"key\": \"C1Jv+fVLcA50vvsxJ+RFZWldQqteRUiIoT++S1Rd\",\\n    \"skey\": \"eyJhbGciOiJIUzUxMiIsInR5cCI6IkpXVCJ9.eyJhY2Nlc3NLZXkiOiJYM1RLV05TMzREUlhUU0gxOUFWSiIsImFjciI6IjEiLCJhdWQiOlsibWluaW8iLCJhY2NvdW50Il0sImF1dGhfdGltZSI6MTczMjA5Mzc0NywiYXpwIjoic3RlbGFyLWFwaSIsImVtYWlsIjoiai5lLmQuaG9uZHRAdHVlLm5sIiwiZW1haWxfdmVyaWZpZWQiOnRydWUsImV4cCI6MTczMjE4MDAwMCwiZmFtaWx5X25hbWUiOiJkJ0hvbmR0IiwiZ2l2ZW5fbmFtZSI6IkplbnMiLCJpYXQiOjE3MzIwOTM3NDcsImlzcyI6Imh0dHBzOi8va2MtZGV2LnN0ZWxhci5nci9yZWFsbXMvbWFzdGVyIiwianRpIjoiYzQ1NGRiODItN2VjZi00MWYwLWI1NTgtMzkzYzY3MWM4NTQ1IiwibmFtZSI6IkplbnMgZCdIb25kdCIsInBvbGljeSI6ImNvbnNvbGVBZG1pbiIsInByZWZlcnJlZF91c2VybmFtZSI6ImpkaG9uZHQiLCJyZWFsbV9hY2Nlc3MiOnsicm9sZXMiOlsiZGVmYXVsdC1yb2xlcy1tYXN0ZXIiLCJvZmZsaW5lX2FjY2VzcyIsInVtYV9hdXRob3JpemF0aW9uIl19LCJyZXNvdXJjZV9hY2Nlc3MiOnsiYWNjb3VudCI6eyJyb2xlcyI6WyJtYW5hZ2UtYWNjb3VudCIsIm1hbmFnZS1hY2NvdW50LWxpbmtzIiwidmlldy1wcm9maWxlIl19LCJtaW5pbyI6eyJyb2xlcyI6WyJjb25zb2xlQWRtaW4iXX19LCJzY29wZSI6Im9wZW5pZCBlbWFpbCBwcm9maWxlIG1pbmlvX2F1dGhfc2NvcGUiLCJzaWQiOiI3MjM1NDIwMC0zYjZiLTQ0NTEtOTJiYy0xNDhkNGY4YzFhYzYiLCJzdWIiOiJiMmVlMTI2Ny1lMWQxLTRkOTAtYjEyZS02MWI5MGUxM2Q1NWQiLCJ0eXAiOiJCZWFyZXIifQ.mpYLHUgmSZkf0LmpuJR_cDRQGdW0TrGvotwcU0es5HR6WugRvioOkP4ZRXCx14JFF295YBrGTW7mNoBylv9UfA\"\\n  },\\n  \"parameters\": {\\n    \"maxPLeft\": 2,\\n    \"maxPRight\": 2,\\n    \"outputPath\": \"s3://klms-bucket/correlation-detective-test\",\\n    \"seed\": 1,\\n    \"simMetricName\": \"pearson_correlation\",\\n    \"topK\": 20\\n  }\\n}\\n\\njava.lang.IllegalArgumentException: bucket name \\'https:\\' does not follow Amazon S3 standards. For more information refer https://docs.aws.amazon.com/AmazonS3/latest/userguide/bucketnamingrules.html\\n\\tat io.minio.BucketArgs$Builder.validateBucketName(BucketArgs.java:47)\\n\\tat io.minio.BucketArgs$Builder.bucket(BucketArgs.java:78)\\n\\tat data_io.MinioHandler.bucketExists(MinioHandler.java:80)\\n\\tat data_io.MinioHandler.checkPath(MinioHandler.java:96)\\n\\tat data_io.MinioHandler.getBufferedDataReader(MinioHandler.java:162)\\n\\tat data_io.DataHandler.readCSV(DataHandler.java:111)\\n\\tat core.RunParameters.loadDataset(RunParameters.java:285)\\n\\tat core.RunParameters.check(RunParameters.java:218)\\n\\tat core.RunParameters.init(RunParameters.java:151)\\n\\tat algorithms.performance.CorrelationDetective.run(CorrelationDetective.java:51)\\n\\tat core.Main.run(Main.java:206)\\n\\tat core.Main.main(Main.java:44)\\nException in thread \"main\" java.util.InputMismatchException: Could not read CSV file: https://klms-dev.stelar.gr/dc/dataset/668f519f-048a-4f9b-abc8-266f1ca8e343/resource/8f5ceb61-fe01-4b77-96f6-3b0f43914e23/download/stocks_small.csv, please check the format and location of the file.\\nBucket \\'https:\\' does not exist\\n\\tat data_io.DataHandler.readCSV(DataHandler.java:122)\\n\\tat core.RunParameters.loadDataset(RunParameters.java:285)\\n\\tat core.RunParameters.check(RunParameters.java:218)\\n\\tat core.RunParameters.init(RunParameters.java:151)\\n\\tat algorithms.performance.CorrelationDetective.run(CorrelationDetective.java:51)\\n\\tat core.Main.run(Main.java:206)\\n\\tat core.Main.main(Main.java:44)\\n./run.sh: line 36: output.json: No such file or directory\\n\\n{\"detail\":{},\"message\":\"Bad Request\"}\\nSecond curl request failed\\n', 'status': 'Failed'}}\n"
     ]
    }
   ],
   "source": [
    "response = requests.get(url + 'task/runtime/read?id=' + task_exec_id, \n",
    "                    headers=headers)\n",
    "logs = response.json()\n",
    "print(logs)\n"
   ]
  },
  {
   "cell_type": "markdown",
   "id": "9049f84c",
   "metadata": {},
   "source": [
    "# Track task metadata"
   ]
  },
  {
   "cell_type": "code",
   "execution_count": null,
   "id": "3d914845",
   "metadata": {
    "scrolled": true
   },
   "outputs": [],
   "source": [
    "state = 'running'\n",
    "while state != 'succeeded' and state != 'failed':\n",
    "    response = requests.get(url + 'task/execution/read?id=' + task_exec_id, \n",
    "                        headers=headers)\n",
    "    state = response.json()['result']['metadata']['state']\n",
    "    print(state)\n",
    "    sleep(2)"
   ]
  },
  {
   "cell_type": "markdown",
   "id": "1bb4823a",
   "metadata": {},
   "source": [
    "# Commit workflow metadata"
   ]
  },
  {
   "cell_type": "code",
   "execution_count": 19,
   "id": "67eab661",
   "metadata": {},
   "outputs": [
    {
     "name": "stdout",
     "output_type": "stream",
     "text": [
      "200\n",
      "{'success': True}\n"
     ]
    }
   ],
   "source": [
    "state=\"succeeded\"\n",
    "\n",
    "data = {\"workflow_exec_id\": workflow_exec_id, \"state\": state}\n",
    "response = requests.post(url + 'workflow/execution/commit', \n",
    "                          json=data, headers=headers)\n",
    "print(response.status_code)\n",
    "print(response.json())  "
   ]
  },
  {
   "cell_type": "markdown",
   "id": "7ea02b76",
   "metadata": {},
   "source": [
    "# Get workflow metadata"
   ]
  },
  {
   "cell_type": "code",
   "execution_count": null,
   "id": "3ea89799",
   "metadata": {},
   "outputs": [],
   "source": [
    "response = requests.get(url + 'workflow/execution/read?id=' + workflow_exec_id, \n",
    "                        headers=headers)\n",
    "print(response.status_code)\n",
    "print(response.json())  "
   ]
  }
 ],
 "metadata": {
  "kernelspec": {
   "display_name": "base",
   "language": "python",
   "name": "python3"
  },
  "language_info": {
   "codemirror_mode": {
    "name": "ipython",
    "version": 3
   },
   "file_extension": ".py",
   "mimetype": "text/x-python",
   "name": "python",
   "nbconvert_exporter": "python",
   "pygments_lexer": "ipython3",
   "version": "3.9.13"
  }
 },
 "nbformat": 4,
 "nbformat_minor": 5
}
